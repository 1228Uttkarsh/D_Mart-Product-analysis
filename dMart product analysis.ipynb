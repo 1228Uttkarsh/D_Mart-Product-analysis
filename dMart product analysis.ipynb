{
 "cells": [
  {
   "cell_type": "code",
   "execution_count": 3,
   "id": "17eef0c9",
   "metadata": {},
   "outputs": [],
   "source": [
    "import pandas as pd\n",
    "import numpy as np\n",
    "import matplotlib.pyplot as plt\n"
   ]
  },
  {
   "cell_type": "code",
   "execution_count": 6,
   "id": "5ddc4031",
   "metadata": {},
   "outputs": [],
   "source": [
    "df = pd .read_csv('DMart.csv')\n",
    "\n"
   ]
  },
  {
   "cell_type": "code",
   "execution_count": null,
   "id": "45084cd3",
   "metadata": {},
   "outputs": [],
   "source": [
    "# Conclusion : Here we can observe that the Datatype of Quantity column which is given as Str will not help us in our analysis so we need to change it.\n",
    "\n",
    "# But fot making any change we have to look upon the unique values which are present in Quantity Column"
   ]
  },
  {
   "cell_type": "code",
   "execution_count": 7,
   "id": "9d1cba1f",
   "metadata": {
    "scrolled": false
   },
   "outputs": [
    {
     "data": {
      "text/html": [
       "<div>\n",
       "<style scoped>\n",
       "    .dataframe tbody tr th:only-of-type {\n",
       "        vertical-align: middle;\n",
       "    }\n",
       "\n",
       "    .dataframe tbody tr th {\n",
       "        vertical-align: top;\n",
       "    }\n",
       "\n",
       "    .dataframe thead th {\n",
       "        text-align: right;\n",
       "    }\n",
       "</style>\n",
       "<table border=\"1\" class=\"dataframe\">\n",
       "  <thead>\n",
       "    <tr style=\"text-align: right;\">\n",
       "      <th></th>\n",
       "      <th>Name</th>\n",
       "      <th>Brand</th>\n",
       "      <th>Price</th>\n",
       "      <th>DiscountedPrice</th>\n",
       "      <th>Category</th>\n",
       "      <th>SubCategory</th>\n",
       "      <th>Quantity</th>\n",
       "      <th>Description</th>\n",
       "      <th>BreadCrumbs</th>\n",
       "    </tr>\n",
       "  </thead>\n",
       "  <tbody>\n",
       "    <tr>\n",
       "      <th>0</th>\n",
       "      <td>Premia Badam (Almonds)</td>\n",
       "      <td>Premia</td>\n",
       "      <td>451.0</td>\n",
       "      <td>329.0</td>\n",
       "      <td>Grocery</td>\n",
       "      <td>Grocery/Dry Fruits</td>\n",
       "      <td>500 gm</td>\n",
       "      <td>India</td>\n",
       "      <td>Grocery &gt; Grocery/Dry Fruits</td>\n",
       "    </tr>\n",
       "    <tr>\n",
       "      <th>1</th>\n",
       "      <td>Premia Badam (Almonds)</td>\n",
       "      <td>Premia</td>\n",
       "      <td>109.0</td>\n",
       "      <td>85.0</td>\n",
       "      <td>Grocery</td>\n",
       "      <td>Grocery/Dry Fruits</td>\n",
       "      <td>100 gm</td>\n",
       "      <td>India</td>\n",
       "      <td>Grocery &gt; Grocery/Dry Fruits</td>\n",
       "    </tr>\n",
       "    <tr>\n",
       "      <th>2</th>\n",
       "      <td>Premia Badam (Almonds)</td>\n",
       "      <td>Premia</td>\n",
       "      <td>202.0</td>\n",
       "      <td>175.0</td>\n",
       "      <td>Grocery</td>\n",
       "      <td>Grocery/Dry Fruits</td>\n",
       "      <td>200 gm</td>\n",
       "      <td>India</td>\n",
       "      <td>Grocery &gt; Grocery/Dry Fruits</td>\n",
       "    </tr>\n",
       "    <tr>\n",
       "      <th>3</th>\n",
       "      <td>Nutraj California Almonds (Badam)</td>\n",
       "      <td>Nutraj</td>\n",
       "      <td>599.0</td>\n",
       "      <td>349.0</td>\n",
       "      <td>Grocery</td>\n",
       "      <td>Dry Fruits</td>\n",
       "      <td>500 gm</td>\n",
       "      <td>USA</td>\n",
       "      <td>Grocery &gt; Dry Fruits</td>\n",
       "    </tr>\n",
       "    <tr>\n",
       "      <th>4</th>\n",
       "      <td>Nutraj California Almonds (Badam)</td>\n",
       "      <td>Nutraj</td>\n",
       "      <td>1549.0</td>\n",
       "      <td>659.0</td>\n",
       "      <td>Grocery</td>\n",
       "      <td>Dry Fruits</td>\n",
       "      <td>1 kg</td>\n",
       "      <td>USA</td>\n",
       "      <td>Grocery &gt; Dry Fruits</td>\n",
       "    </tr>\n",
       "  </tbody>\n",
       "</table>\n",
       "</div>"
      ],
      "text/plain": [
       "                                Name   Brand   Price  DiscountedPrice  \\\n",
       "0             Premia Badam (Almonds)  Premia   451.0            329.0   \n",
       "1             Premia Badam (Almonds)  Premia   109.0             85.0   \n",
       "2             Premia Badam (Almonds)  Premia   202.0            175.0   \n",
       "3  Nutraj California Almonds (Badam)  Nutraj   599.0            349.0   \n",
       "4  Nutraj California Almonds (Badam)  Nutraj  1549.0            659.0   \n",
       "\n",
       "  Category         SubCategory Quantity Description  \\\n",
       "0  Grocery  Grocery/Dry Fruits   500 gm       India   \n",
       "1  Grocery  Grocery/Dry Fruits   100 gm       India   \n",
       "2  Grocery  Grocery/Dry Fruits   200 gm       India   \n",
       "3  Grocery          Dry Fruits   500 gm         USA   \n",
       "4  Grocery          Dry Fruits     1 kg         USA   \n",
       "\n",
       "                    BreadCrumbs  \n",
       "0  Grocery > Grocery/Dry Fruits  \n",
       "1  Grocery > Grocery/Dry Fruits  \n",
       "2  Grocery > Grocery/Dry Fruits  \n",
       "3          Grocery > Dry Fruits  \n",
       "4          Grocery > Dry Fruits  "
      ]
     },
     "execution_count": 7,
     "metadata": {},
     "output_type": "execute_result"
    }
   ],
   "source": [
    "df.head()\n"
   ]
  },
  {
   "cell_type": "code",
   "execution_count": null,
   "id": "477a9238",
   "metadata": {},
   "outputs": [],
   "source": [
    "# 2.DATATYPE OF EACH COLUMN"
   ]
  },
  {
   "cell_type": "code",
   "execution_count": 11,
   "id": "43717208",
   "metadata": {
    "scrolled": true
   },
   "outputs": [
    {
     "name": "stdout",
     "output_type": "stream",
     "text": [
      "<class 'pandas.core.frame.DataFrame'>\n",
      "RangeIndex: 5189 entries, 0 to 5188\n",
      "Data columns (total 9 columns):\n",
      " #   Column           Non-Null Count  Dtype  \n",
      "---  ------           --------------  -----  \n",
      " 0   Name             5188 non-null   object \n",
      " 1   Brand            4789 non-null   object \n",
      " 2   Price            5188 non-null   float64\n",
      " 3   DiscountedPrice  5188 non-null   float64\n",
      " 4   Category         5186 non-null   object \n",
      " 5   SubCategory      5186 non-null   object \n",
      " 6   Quantity         5188 non-null   object \n",
      " 7   Description      5187 non-null   object \n",
      " 8   BreadCrumbs      5186 non-null   object \n",
      "dtypes: float64(2), object(7)\n",
      "memory usage: 365.0+ KB\n"
     ]
    }
   ],
   "source": [
    "\n",
    "\n",
    "df.info()"
   ]
  },
  {
   "cell_type": "code",
   "execution_count": 12,
   "id": "b1add48a",
   "metadata": {},
   "outputs": [],
   "source": [
    "# to look upon the unique values which are present in Quantity Column"
   ]
  },
  {
   "cell_type": "code",
   "execution_count": 13,
   "id": "c22683ad",
   "metadata": {},
   "outputs": [
    {
     "data": {
      "text/plain": [
       "array(['500 gm', '100 gm', '200 gm', '1 kg', '400 gm', '5 kg', '250 gm',\n",
       "       '1 Kg', '150 gm', '450 gm', '50 gm', '1 L', '900 gm', '20 gm',\n",
       "       '10 gm', '4 pcs', '5 L', '15 L', '5  L', '500 ml', '2 L', '200 ml',\n",
       "       '250 ml', '2x1L', '225 ml', '10 kg', '5 Kg', ' 5 kg', '25 gm',\n",
       "       '350 gm', '72 gm', ' 50 gm', '35 gm', '60 gm', '120 gm', '80 gm',\n",
       "       '5 U', '40 gm', '700 gm', '1 gm', '45 gm', '7 gm', '75 gm',\n",
       "       '20 ml', '1.5 kg', '25 Bags', '100 Bags', '10 Bags', '50 Bags',\n",
       "       '140 gm', '168 gm', '16 Bags', '180 ml', '1 L x 12 U', '476 gm',\n",
       "       '750 gm', '663 gm', '600 gm', '180 gm', '160 gm', '20 Bag',\n",
       "       '2x500 gm', '95 gm', '48 gm', '5x65 ml', '380 gm', '10 U',\n",
       "       '150 ml', '85 gm', '90 gm', '225 gm', '2.25 L', '600 ml', '1.75 L',\n",
       "       '8x250 ml', '750 ml', '300 ml', '6x330 ml', '330 ml', '750  ml',\n",
       "       '1.2 L', '6x250 ml', '4x250 ml', '350 ml', '623 gm', '253 gm',\n",
       "       '143 gm', '584 gm', '4X100 gm', '300 gm', '138 gm', '276 gm',\n",
       "       '124 gm', '135 gm', '14x10.8 gm', '800 gm', '190.5 gm', '248 gm',\n",
       "       '105 gm', '504 gm', '190 gm', '654 gm', '273 gm', '125 gm',\n",
       "       '275 gm', '170 gm', '77.2 gm', '81 gm', '74 gm', '73 gm', '104 gm',\n",
       "       '174 gm', '107 gm', '71.5 gm', '153 gm', '78 gm', '130 gm',\n",
       "       '57 gm', '52 gm', '55 gm', '91 gm', '110 gm', '117 gm', '145 gm',\n",
       "       '70 gm', '185 gm', '30 gm', '96 gm', '99 gm', '28 gm', '59 gm',\n",
       "       '65 gm', '210 gm', '1.25 Kg', '420 gm', '425 gm', '760 gm',\n",
       "       '415 gm', '360 gm', '15 Pcs', '550 gm', '24 Pcs', '340 gm',\n",
       "       '540 gm', '320 gm', '1.24 kg', '5 pcs', '230 gm', '94 gm', '92 gm',\n",
       "       '875 gm', '475 gm', '1.2 kg', '1200 gm', '22 gm', '156 gm',\n",
       "       '460 gm', '375 gm', '285 gm', '38 gm', '126 gm', '605 gm',\n",
       "       '119 gm', '137 gm', '187.2 gm', '162 gm', '142.2 gm', '24 gm',\n",
       "       '391 gm', '195.5 gm', '108.5 gm', '15.8 gm', '36 gm', '36.5 gm',\n",
       "       '100.8 gm', '108 gm', '27.5 gm', '19 gm', '20x10 gm', '25.28 gm',\n",
       "       '20.1 gm', '26 gm', '139.2 gm', '69.6 gm', '272 gm', '240 gm',\n",
       "       '130.9 gm', '59.8 gm', '148 gm', '42 gm', '177 gm', '87 gm',\n",
       "       '950 gm', '680 gm', '325 gm', '280 gm', '525 gm', '255 gm',\n",
       "       '60 ml', '510 gm', '481 gm', '396 gm', '397 gm', '226 gm',\n",
       "       '170 ml', '355 ml', '473 ml', '470 gm', '925 gm', '1.25 kg',\n",
       "       '290 gm', '1.2 Kg', '227 gm', '284 gm', '435 gm', '520 gm',\n",
       "       '480 gm', '184 gm', '46 gm', '192 gm', '560 gm', '850 gm',\n",
       "       '200 Gm', '6 Pcs', '159 gm', '270 gm', '384 gm', '198 gm', '37 gm',\n",
       "       '294 gm', '137.5 gm', '136 gm', '32.5 gm', '32.55 gm', '7.2 gm',\n",
       "       '300 Pellets', '500 Pellets', '50 ml', '2x500gm', '200 Drops',\n",
       "       '25 Sachets', '30 U', '53 gm', '44 gm', '14 gm', '12 gm', '41 gm',\n",
       "       '11 gm', '15 gm', '1 pc', '4 Pcs', '3 pcs', '4 U', '6 pcs', '3 kg',\n",
       "       '2 kg', '1 U', '2 pcs', '2 U', '6 kg', '4 kg', '7 Kg', '4 Kg',\n",
       "       '4x250 gm', '6x250 gm', '4x200 gm', '5x200 gm', '1.8 L', '430 ml',\n",
       "       '860 ml', '1.6 L', '800 ml', '550 ml', '1.25 L', '975 ml', ' 1 L',\n",
       "       '435 ml', '3x200 gm', '900 ml', '2x700 gm', '115 gm', 'Pack of 5',\n",
       "       '3x360 gm', 'Pack of 3', 'Pack of 2', '24 Tablets', '63.8 gm',\n",
       "       '625 ml', '400 ml', '45 ml', '2x45 ml', '4x45 ml', '4x48 gm',\n",
       "       '4x72 gm', '6x45 ml', '1 Unit', '220 ml', '3x10 gm', '8 ml',\n",
       "       '240 ml', '425 ml', 'Brown', 'Navy Blue', 'Pack of 6', 'Jazz 04',\n",
       "       'Beige', 'Maroon', '22 cm x 20 M', '30 cm x 3 M', '15 U',\n",
       "       '30 cm x 5 M', '72 mtr', '6 mtr', '30 cm x 20 metres', '20 U',\n",
       "       '200 U', '100 U', '25 U', '25 Wipes', 'Blue', 'Green', '4 Units',\n",
       "       '90 U', 'Pack of 15', '50 U', '6 U', '10 L', 'Pack of 10',\n",
       "       'Orange', '3 U', 'Pack of 4', 'Pink', 'Red', '2 Units', '3 Pcs',\n",
       "       '1 Wipe', '800 W', '12 U', '400 W', '2 Pcs', 'Set of 6',\n",
       "       'Set Of 3', '1.5 Litres', '125 W', '350 W', '20 Pcs', '5 Pcs',\n",
       "       'Nicolas Green', 'Nicolas Brown', 'Boston Brick', 'Boston Teal',\n",
       "       'Charles Brown', 'Charles Peach', 'Jules Beige', 'Jules Blue',\n",
       "       'Zoe Pink', 'ZOE Peri', 'Strike Brown', 'Strike Mauve', '6  U',\n",
       "       'Set of 3', '4 x 6 Feet', '6 x 6 Feet', 'Grey', 'Brown & Beige',\n",
       "       'Purple', 'Indigo', 'Steel', 'Coral', '75x150 cm', 'Ruby Red',\n",
       "       '40x60 cm', 'Set of 2', 'Pack of 50', 'Pack of 30', '450 ml',\n",
       "       'Pack of 25', '5.5 Litres', '3 Litres', '5 Litres', '3 Units',\n",
       "       '3 Litres + 2 Litres', '7.5 Litres', '2 Litres', '4 Litres',\n",
       "       '3 Containers', '1 Litre', ' 6 Pcs', '12 Pcs', '7 Pcs', '3 L',\n",
       "       '2 Unit', '2.5 L', '2.2 L', 'Set of 20', '7 pcs', '320 ml',\n",
       "       'English Lavender', '245 ml', 'Radiant Curve', '10 Pcs',\n",
       "       'Blissful Green', '18 Pcs', 'Set of 7', 'Trinity Green',\n",
       "       'Set of 5', '1.3 L', 'Set of 4', '2 Containers', '870 ml',\n",
       "       '420 ml', '1.8 Litres', '1.1 Litre', '52 U', '265 gm', '191 U',\n",
       "       '132 gm', '108 U', '106 U', '36 U', '24 U', '235 gm', '8 U',\n",
       "       '130 U', '60 U', 'Lemon Grass', 'Orchid Blossom', 'Fresh Lavender',\n",
       "       '165 gm', '18 U', '10 Pieces', '20 Watts', '2 Pieces', '4 Pieces',\n",
       "       '6 Pieces', '12 Watts', '18 Watts', '7 Watts', '9 Watts',\n",
       "       '10 Watts', '23 Watts', '0.5 Watts', '9 Watt', '25 Watts', '12 W',\n",
       "       '14 Watts', '6 Unit', 'Pack of 20', '5 Metres', '4 Metres',\n",
       "       '24 x 50 Meters', '3 gm', '3x125 gm', '4x125 gm', '5x100 gm',\n",
       "       '3x150 gm', '3x75 gm', '5x125 gm', '4x100 gm', '4x150 gm',\n",
       "       '4x75 gm', ' 5x125 gm', '3x100 gm', '4X125 gm', '275 ml', '100 ml',\n",
       "       '23 gm', '120 ml', '130 ml', '210 ml', '25 ml', '4.8 gm', '2 gm',\n",
       "       '4.5 gm', '15 ml', '30 ml', '115 ml', '175 ml', '75 ml', '88 ml',\n",
       "       '22 ml', '65 ml', '98 gm', '33 gm', '8 gm', '9 gm', '18 ml',\n",
       "       '27 ml', '35 ml', '125 ml', '30 Wipes', '10 Wipes', '4.5 ml',\n",
       "       '6.8 ml', '4 gm', '6.7 gm', '6 ml', '650 ml', '285 ml', '95 ml',\n",
       "       '475 ml', '340 ml', '640 ml', '360 ml', '580 ml', '704 ml',\n",
       "       '190 ml', '335 ml', '87.5 gm', '72 ml', '10 ml + 10 ml', '40 ml',\n",
       "       '1000 W', '0.35 gm', '1.2 gm', '0.7 gm', '13 ml', '9.2 ml',\n",
       "       '10 ml', '9 ml', '9.5 gm', '5 gm', '8.5 ml', '3 ml', '2.5 gm',\n",
       "       '0.6 ml', '3.5 ml', '1.5 gm', '5 ml', '2.5 ml', '1.2 ml', '1 ml',\n",
       "       '6.1 gm', '1.7 gm', '7 ml', '5.6 ml', '3.9 gm', '4 ml', '1.4 gm',\n",
       "       '4.2 gm', '1.3 gm', '3.6 gm', '80 ml', '56', '28', '121', '30',\n",
       "       '59', '8', '129', '2x200 gm', '2x150 gm', '2x100 gm', '2x175 gm',\n",
       "       '44 U', '42 U', '40 U', '48 U', '16 U', '27 U', '154 ml',\n",
       "       '5 Razors', '418 gm', '196 gm', '2x75 gm', '54 U', '66 U', '70 U',\n",
       "       '46 U', '84 U', '28 U', '98 U', '120 U', '34 U', '93 U', '72 U',\n",
       "       '86 U', '76 U', '72 Wipes', '80 Wipes', '120 Tablets', '30 Unit',\n",
       "       '110 ml', '2x0.5 ml', '70 Pill', '16 gm', '21 ml', '27.5 ml',\n",
       "       '32 gm', '100 Pcs', '60 Tablets', '3X175 ml', '725 ml', '10 W',\n",
       "       '4 Unit', '2000 W', 'Silver White', 'Smoked Brown', 'Silver Sage',\n",
       "       '1.5 L', '750 W', '550 W', '500 W', '1800 W', '1900 W', '1400 W',\n",
       "       'Size M', 'Size S', 'Size L', 'Size XL', 'Size XXL', 'Size XXXL',\n",
       "       'XL (95 cm)', 'M (85 cm)', 'XXXL (105 cm)', 'XXL (100 cm)',\n",
       "       'Pack Of 3', '3 W', nan, '50 Shades', '2 Burners', '1 Book',\n",
       "       'Size 7', 'Size 5', 'Size 6', 'Size 4', '250 ml x 48U', 'Black',\n",
       "       '10 x 12 Inches', '8 x 10 Inches', '12 Shades', '12x16.5 gm',\n",
       "       '14 Shades'], dtype=object)"
      ]
     },
     "execution_count": 13,
     "metadata": {},
     "output_type": "execute_result"
    }
   ],
   "source": [
    "df['Quantity'].unique()\n"
   ]
  },
  {
   "cell_type": "code",
   "execution_count": 14,
   "id": "4a20a62f",
   "metadata": {},
   "outputs": [],
   "source": [
    "# Looking at above values we can conclude that converting this column will become a hectinc task so we won't consider this column in our analysis"
   ]
  },
  {
   "cell_type": "code",
   "execution_count": 15,
   "id": "84a84bdc",
   "metadata": {},
   "outputs": [],
   "source": [
    "# CHECKING DUPLICATES"
   ]
  },
  {
   "cell_type": "code",
   "execution_count": 16,
   "id": "0ae05bf6",
   "metadata": {},
   "outputs": [
    {
     "data": {
      "text/plain": [
       "0"
      ]
     },
     "execution_count": 16,
     "metadata": {},
     "output_type": "execute_result"
    }
   ],
   "source": [
    "df.duplicated().sum()"
   ]
  },
  {
   "cell_type": "code",
   "execution_count": 17,
   "id": "8e82a50c",
   "metadata": {},
   "outputs": [],
   "source": [
    "# 4 Do we have null values"
   ]
  },
  {
   "cell_type": "code",
   "execution_count": 18,
   "id": "aae3f433",
   "metadata": {},
   "outputs": [
    {
     "data": {
      "text/plain": [
       "Name                 1\n",
       "Brand              400\n",
       "Price                1\n",
       "DiscountedPrice      1\n",
       "Category             3\n",
       "SubCategory          3\n",
       "Quantity             1\n",
       "Description          2\n",
       "BreadCrumbs          3\n",
       "dtype: int64"
      ]
     },
     "execution_count": 18,
     "metadata": {},
     "output_type": "execute_result"
    }
   ],
   "source": [
    "\n",
    "df.isnull().sum()"
   ]
  },
  {
   "cell_type": "code",
   "execution_count": 20,
   "id": "b09cce24",
   "metadata": {},
   "outputs": [],
   "source": [
    "# Yes, our data is having multiple Null values\n"
   ]
  },
  {
   "cell_type": "markdown",
   "id": "0e785c41",
   "metadata": {},
   "source": [
    "## 1. Data cleansing\n"
   ]
  },
  {
   "cell_type": "markdown",
   "id": "f7c4bb7d",
   "metadata": {},
   "source": [
    "# Removing null values\n"
   ]
  },
  {
   "cell_type": "code",
   "execution_count": 22,
   "id": "7a858a5b",
   "metadata": {},
   "outputs": [],
   "source": [
    "df['Name'] = df['Name'].fillna('Kitchen Appliance')"
   ]
  },
  {
   "cell_type": "code",
   "execution_count": 23,
   "id": "0788b2e7",
   "metadata": {},
   "outputs": [],
   "source": [
    "df['Brand'] = df['Brand'].fillna('Local/Unknown')"
   ]
  },
  {
   "cell_type": "code",
   "execution_count": 24,
   "id": "d05009eb",
   "metadata": {},
   "outputs": [
    {
     "data": {
      "text/html": [
       "<div>\n",
       "<style scoped>\n",
       "    .dataframe tbody tr th:only-of-type {\n",
       "        vertical-align: middle;\n",
       "    }\n",
       "\n",
       "    .dataframe tbody tr th {\n",
       "        vertical-align: top;\n",
       "    }\n",
       "\n",
       "    .dataframe thead th {\n",
       "        text-align: right;\n",
       "    }\n",
       "</style>\n",
       "<table border=\"1\" class=\"dataframe\">\n",
       "  <thead>\n",
       "    <tr style=\"text-align: right;\">\n",
       "      <th></th>\n",
       "      <th>Name</th>\n",
       "      <th>Brand</th>\n",
       "      <th>Price</th>\n",
       "      <th>DiscountedPrice</th>\n",
       "      <th>Category</th>\n",
       "      <th>SubCategory</th>\n",
       "      <th>Quantity</th>\n",
       "      <th>Description</th>\n",
       "      <th>BreadCrumbs</th>\n",
       "    </tr>\n",
       "  </thead>\n",
       "  <tbody>\n",
       "    <tr>\n",
       "      <th>4323</th>\n",
       "      <td>Elle 18 Nail Pops Nail Colour - Shade 125</td>\n",
       "      <td>Elle 18</td>\n",
       "      <td>NaN</td>\n",
       "      <td>NaN</td>\n",
       "      <td>Personal Care</td>\n",
       "      <td>Personal Care/Nail Care</td>\n",
       "      <td>5 ml</td>\n",
       "      <td>NaN</td>\n",
       "      <td>Personal Care &gt; Personal Care/Nail Care</td>\n",
       "    </tr>\n",
       "  </tbody>\n",
       "</table>\n",
       "</div>"
      ],
      "text/plain": [
       "                                           Name    Brand  Price  \\\n",
       "4323  Elle 18 Nail Pops Nail Colour - Shade 125  Elle 18    NaN   \n",
       "\n",
       "      DiscountedPrice       Category              SubCategory Quantity  \\\n",
       "4323              NaN  Personal Care  Personal Care/Nail Care     5 ml   \n",
       "\n",
       "     Description                              BreadCrumbs  \n",
       "4323         NaN  Personal Care > Personal Care/Nail Care  "
      ]
     },
     "execution_count": 24,
     "metadata": {},
     "output_type": "execute_result"
    }
   ],
   "source": [
    "df[df['Price'].isnull()==True]"
   ]
  },
  {
   "cell_type": "code",
   "execution_count": 25,
   "id": "a6caabd3",
   "metadata": {},
   "outputs": [],
   "source": [
    "df['Price']=df['Price'].fillna(df[df['SubCategory']=='Personal Care/Nail Care']['Price'].mean())"
   ]
  },
  {
   "cell_type": "code",
   "execution_count": 26,
   "id": "d95297c3",
   "metadata": {},
   "outputs": [],
   "source": [
    "df['DiscountedPrice']=df['DiscountedPrice'].fillna(df[df['SubCategory']=='Personal Care/Nail Care']['DiscountedPrice'].mean())"
   ]
  },
  {
   "cell_type": "code",
   "execution_count": null,
   "id": "84bb80cc",
   "metadata": {},
   "outputs": [],
   "source": []
  },
  {
   "cell_type": "code",
   "execution_count": 27,
   "id": "c3b590f6",
   "metadata": {},
   "outputs": [
    {
     "data": {
      "text/html": [
       "<div>\n",
       "<style scoped>\n",
       "    .dataframe tbody tr th:only-of-type {\n",
       "        vertical-align: middle;\n",
       "    }\n",
       "\n",
       "    .dataframe tbody tr th {\n",
       "        vertical-align: top;\n",
       "    }\n",
       "\n",
       "    .dataframe thead th {\n",
       "        text-align: right;\n",
       "    }\n",
       "</style>\n",
       "<table border=\"1\" class=\"dataframe\">\n",
       "  <thead>\n",
       "    <tr style=\"text-align: right;\">\n",
       "      <th></th>\n",
       "      <th>Name</th>\n",
       "      <th>Brand</th>\n",
       "      <th>Price</th>\n",
       "      <th>DiscountedPrice</th>\n",
       "      <th>Category</th>\n",
       "      <th>SubCategory</th>\n",
       "      <th>Quantity</th>\n",
       "      <th>Description</th>\n",
       "      <th>BreadCrumbs</th>\n",
       "    </tr>\n",
       "  </thead>\n",
       "  <tbody>\n",
       "    <tr>\n",
       "      <th>3180</th>\n",
       "      <td>Stainless Steel Idli Maker with Lid</td>\n",
       "      <td>Keyur Kitchenware</td>\n",
       "      <td>900.0</td>\n",
       "      <td>499.0</td>\n",
       "      <td>NaN</td>\n",
       "      <td>NaN</td>\n",
       "      <td>1 Unit</td>\n",
       "      <td>\\n- Container Material : Stainless Steel\\n- Ha...</td>\n",
       "      <td>NaN</td>\n",
       "    </tr>\n",
       "    <tr>\n",
       "      <th>3243</th>\n",
       "      <td>Pigeon ESS Non-Stick Gift Set - Red</td>\n",
       "      <td>Pigeon</td>\n",
       "      <td>2895.0</td>\n",
       "      <td>1359.0</td>\n",
       "      <td>NaN</td>\n",
       "      <td>NaN</td>\n",
       "      <td>7 pcs</td>\n",
       "      <td>\\n-Specifications :\\n- Coating : 5 Layers Non-...</td>\n",
       "      <td>NaN</td>\n",
       "    </tr>\n",
       "    <tr>\n",
       "      <th>3245</th>\n",
       "      <td>Wonderchef Milano Set - Red</td>\n",
       "      <td>Wonderchef</td>\n",
       "      <td>4200.0</td>\n",
       "      <td>1999.0</td>\n",
       "      <td>NaN</td>\n",
       "      <td>NaN</td>\n",
       "      <td>4 Pcs</td>\n",
       "      <td>\\n- Adorn your kitchen with this beautiful Mil...</td>\n",
       "      <td>NaN</td>\n",
       "    </tr>\n",
       "  </tbody>\n",
       "</table>\n",
       "</div>"
      ],
      "text/plain": [
       "                                     Name              Brand   Price  \\\n",
       "3180  Stainless Steel Idli Maker with Lid  Keyur Kitchenware   900.0   \n",
       "3243  Pigeon ESS Non-Stick Gift Set - Red             Pigeon  2895.0   \n",
       "3245          Wonderchef Milano Set - Red         Wonderchef  4200.0   \n",
       "\n",
       "      DiscountedPrice Category SubCategory Quantity  \\\n",
       "3180            499.0      NaN         NaN   1 Unit   \n",
       "3243           1359.0      NaN         NaN    7 pcs   \n",
       "3245           1999.0      NaN         NaN    4 Pcs   \n",
       "\n",
       "                                            Description BreadCrumbs  \n",
       "3180  \\n- Container Material : Stainless Steel\\n- Ha...         NaN  \n",
       "3243  \\n-Specifications :\\n- Coating : 5 Layers Non-...         NaN  \n",
       "3245  \\n- Adorn your kitchen with this beautiful Mil...         NaN  "
      ]
     },
     "execution_count": 27,
     "metadata": {},
     "output_type": "execute_result"
    }
   ],
   "source": [
    "df[df['Category'].isnull()==True]"
   ]
  },
  {
   "cell_type": "code",
   "execution_count": 28,
   "id": "c368b22e",
   "metadata": {},
   "outputs": [],
   "source": [
    "df['Category'] = df['Category'].fillna('Home & Kitchen')"
   ]
  },
  {
   "cell_type": "code",
   "execution_count": 29,
   "id": "340c709d",
   "metadata": {},
   "outputs": [],
   "source": [
    "df['SubCategory'] = df['SubCategory'].fillna('Home Appliances')"
   ]
  },
  {
   "cell_type": "code",
   "execution_count": 30,
   "id": "8e90f906",
   "metadata": {},
   "outputs": [],
   "source": [
    "df['BreadCrumbs']=df['BreadCrumbs'].fillna('Home & Kitchen > Cookware & Serveware')"
   ]
  },
  {
   "cell_type": "code",
   "execution_count": 31,
   "id": "374f1a9a",
   "metadata": {},
   "outputs": [
    {
     "data": {
      "text/html": [
       "<div>\n",
       "<style scoped>\n",
       "    .dataframe tbody tr th:only-of-type {\n",
       "        vertical-align: middle;\n",
       "    }\n",
       "\n",
       "    .dataframe tbody tr th {\n",
       "        vertical-align: top;\n",
       "    }\n",
       "\n",
       "    .dataframe thead th {\n",
       "        text-align: right;\n",
       "    }\n",
       "</style>\n",
       "<table border=\"1\" class=\"dataframe\">\n",
       "  <thead>\n",
       "    <tr style=\"text-align: right;\">\n",
       "      <th></th>\n",
       "      <th>Name</th>\n",
       "      <th>Brand</th>\n",
       "      <th>Price</th>\n",
       "      <th>DiscountedPrice</th>\n",
       "      <th>Category</th>\n",
       "      <th>SubCategory</th>\n",
       "      <th>Quantity</th>\n",
       "      <th>Description</th>\n",
       "      <th>BreadCrumbs</th>\n",
       "    </tr>\n",
       "  </thead>\n",
       "  <tbody>\n",
       "    <tr>\n",
       "      <th>5047</th>\n",
       "      <td>Zeel MT212 Men's Raincoat - Navy Blue : Size XXL</td>\n",
       "      <td>Zeel</td>\n",
       "      <td>1199.0</td>\n",
       "      <td>1049.0</td>\n",
       "      <td>Raincoat</td>\n",
       "      <td>Raincoat</td>\n",
       "      <td>NaN</td>\n",
       "      <td>Specifications- Material : Fabric- Colour : Na...</td>\n",
       "      <td>Raincoat</td>\n",
       "    </tr>\n",
       "  </tbody>\n",
       "</table>\n",
       "</div>"
      ],
      "text/plain": [
       "                                                  Name Brand   Price  \\\n",
       "5047  Zeel MT212 Men's Raincoat - Navy Blue : Size XXL  Zeel  1199.0   \n",
       "\n",
       "      DiscountedPrice  Category SubCategory Quantity  \\\n",
       "5047           1049.0  Raincoat    Raincoat      NaN   \n",
       "\n",
       "                                            Description BreadCrumbs  \n",
       "5047  Specifications- Material : Fabric- Colour : Na...    Raincoat  "
      ]
     },
     "execution_count": 31,
     "metadata": {},
     "output_type": "execute_result"
    }
   ],
   "source": [
    "df[df.Quantity.isnull()==True]"
   ]
  },
  {
   "cell_type": "code",
   "execution_count": 32,
   "id": "5813d21f",
   "metadata": {},
   "outputs": [],
   "source": [
    "df['Quantity'] = df['Quantity'].fillna('Size XXL')\n"
   ]
  },
  {
   "cell_type": "code",
   "execution_count": 33,
   "id": "3e130e8d",
   "metadata": {},
   "outputs": [],
   "source": [
    "df['Description'] = df['Description'].fillna('No Desciption')"
   ]
  },
  {
   "cell_type": "code",
   "execution_count": 34,
   "id": "da10fe5c",
   "metadata": {},
   "outputs": [
    {
     "data": {
      "text/plain": [
       "Name               0\n",
       "Brand              0\n",
       "Price              0\n",
       "DiscountedPrice    0\n",
       "Category           0\n",
       "SubCategory        0\n",
       "Quantity           0\n",
       "Description        0\n",
       "BreadCrumbs        0\n",
       "dtype: int64"
      ]
     },
     "execution_count": 34,
     "metadata": {},
     "output_type": "execute_result"
    }
   ],
   "source": [
    "df.isnull().sum()"
   ]
  },
  {
   "cell_type": "code",
   "execution_count": null,
   "id": "5afd0f61",
   "metadata": {},
   "outputs": [],
   "source": []
  },
  {
   "cell_type": "code",
   "execution_count": 35,
   "id": "b8598b1a",
   "metadata": {},
   "outputs": [
    {
     "data": {
      "text/html": [
       "<div>\n",
       "<style scoped>\n",
       "    .dataframe tbody tr th:only-of-type {\n",
       "        vertical-align: middle;\n",
       "    }\n",
       "\n",
       "    .dataframe tbody tr th {\n",
       "        vertical-align: top;\n",
       "    }\n",
       "\n",
       "    .dataframe thead th {\n",
       "        text-align: right;\n",
       "    }\n",
       "</style>\n",
       "<table border=\"1\" class=\"dataframe\">\n",
       "  <thead>\n",
       "    <tr style=\"text-align: right;\">\n",
       "      <th></th>\n",
       "      <th>Name</th>\n",
       "      <th>Brand</th>\n",
       "      <th>Price</th>\n",
       "      <th>DiscountedPrice</th>\n",
       "      <th>Category</th>\n",
       "      <th>SubCategory</th>\n",
       "      <th>Quantity</th>\n",
       "      <th>Description</th>\n",
       "      <th>BreadCrumbs</th>\n",
       "    </tr>\n",
       "  </thead>\n",
       "  <tbody>\n",
       "    <tr>\n",
       "      <th>0</th>\n",
       "      <td>Premia Badam (Almonds)</td>\n",
       "      <td>Premia</td>\n",
       "      <td>451.0</td>\n",
       "      <td>329.0</td>\n",
       "      <td>Grocery</td>\n",
       "      <td>Grocery/Dry Fruits</td>\n",
       "      <td>500 gm</td>\n",
       "      <td>India</td>\n",
       "      <td>Grocery &gt; Grocery/Dry Fruits</td>\n",
       "    </tr>\n",
       "    <tr>\n",
       "      <th>1</th>\n",
       "      <td>Premia Badam (Almonds)</td>\n",
       "      <td>Premia</td>\n",
       "      <td>109.0</td>\n",
       "      <td>85.0</td>\n",
       "      <td>Grocery</td>\n",
       "      <td>Grocery/Dry Fruits</td>\n",
       "      <td>100 gm</td>\n",
       "      <td>India</td>\n",
       "      <td>Grocery &gt; Grocery/Dry Fruits</td>\n",
       "    </tr>\n",
       "    <tr>\n",
       "      <th>2</th>\n",
       "      <td>Premia Badam (Almonds)</td>\n",
       "      <td>Premia</td>\n",
       "      <td>202.0</td>\n",
       "      <td>175.0</td>\n",
       "      <td>Grocery</td>\n",
       "      <td>Grocery/Dry Fruits</td>\n",
       "      <td>200 gm</td>\n",
       "      <td>India</td>\n",
       "      <td>Grocery &gt; Grocery/Dry Fruits</td>\n",
       "    </tr>\n",
       "    <tr>\n",
       "      <th>3</th>\n",
       "      <td>Nutraj California Almonds (Badam)</td>\n",
       "      <td>Nutraj</td>\n",
       "      <td>599.0</td>\n",
       "      <td>349.0</td>\n",
       "      <td>Grocery</td>\n",
       "      <td>Dry Fruits</td>\n",
       "      <td>500 gm</td>\n",
       "      <td>USA</td>\n",
       "      <td>Grocery &gt; Dry Fruits</td>\n",
       "    </tr>\n",
       "    <tr>\n",
       "      <th>4</th>\n",
       "      <td>Nutraj California Almonds (Badam)</td>\n",
       "      <td>Nutraj</td>\n",
       "      <td>1549.0</td>\n",
       "      <td>659.0</td>\n",
       "      <td>Grocery</td>\n",
       "      <td>Dry Fruits</td>\n",
       "      <td>1 kg</td>\n",
       "      <td>USA</td>\n",
       "      <td>Grocery &gt; Dry Fruits</td>\n",
       "    </tr>\n",
       "  </tbody>\n",
       "</table>\n",
       "</div>"
      ],
      "text/plain": [
       "                                Name   Brand   Price  DiscountedPrice  \\\n",
       "0             Premia Badam (Almonds)  Premia   451.0            329.0   \n",
       "1             Premia Badam (Almonds)  Premia   109.0             85.0   \n",
       "2             Premia Badam (Almonds)  Premia   202.0            175.0   \n",
       "3  Nutraj California Almonds (Badam)  Nutraj   599.0            349.0   \n",
       "4  Nutraj California Almonds (Badam)  Nutraj  1549.0            659.0   \n",
       "\n",
       "  Category         SubCategory Quantity Description  \\\n",
       "0  Grocery  Grocery/Dry Fruits   500 gm       India   \n",
       "1  Grocery  Grocery/Dry Fruits   100 gm       India   \n",
       "2  Grocery  Grocery/Dry Fruits   200 gm       India   \n",
       "3  Grocery          Dry Fruits   500 gm         USA   \n",
       "4  Grocery          Dry Fruits     1 kg         USA   \n",
       "\n",
       "                    BreadCrumbs  \n",
       "0  Grocery > Grocery/Dry Fruits  \n",
       "1  Grocery > Grocery/Dry Fruits  \n",
       "2  Grocery > Grocery/Dry Fruits  \n",
       "3          Grocery > Dry Fruits  \n",
       "4          Grocery > Dry Fruits  "
      ]
     },
     "execution_count": 35,
     "metadata": {},
     "output_type": "execute_result"
    }
   ],
   "source": [
    "df.head()\n"
   ]
  },
  {
   "cell_type": "code",
   "execution_count": 36,
   "id": "c64bf0b3",
   "metadata": {},
   "outputs": [],
   "source": [
    "df['DiscountPercent'] = (df['Price']-df['DiscountedPrice'])*100/df['Price']"
   ]
  },
  {
   "cell_type": "code",
   "execution_count": 37,
   "id": "45ed41c1",
   "metadata": {},
   "outputs": [
    {
     "data": {
      "text/plain": [
       "Name               0\n",
       "Brand              0\n",
       "Price              0\n",
       "DiscountedPrice    0\n",
       "Category           0\n",
       "SubCategory        0\n",
       "Quantity           0\n",
       "Description        0\n",
       "BreadCrumbs        0\n",
       "DiscountPercent    1\n",
       "dtype: int64"
      ]
     },
     "execution_count": 37,
     "metadata": {},
     "output_type": "execute_result"
    }
   ],
   "source": [
    "df.isnull().sum()\n"
   ]
  },
  {
   "cell_type": "code",
   "execution_count": 38,
   "id": "089d0158",
   "metadata": {},
   "outputs": [
    {
     "data": {
      "text/html": [
       "<div>\n",
       "<style scoped>\n",
       "    .dataframe tbody tr th:only-of-type {\n",
       "        vertical-align: middle;\n",
       "    }\n",
       "\n",
       "    .dataframe tbody tr th {\n",
       "        vertical-align: top;\n",
       "    }\n",
       "\n",
       "    .dataframe thead th {\n",
       "        text-align: right;\n",
       "    }\n",
       "</style>\n",
       "<table border=\"1\" class=\"dataframe\">\n",
       "  <thead>\n",
       "    <tr style=\"text-align: right;\">\n",
       "      <th></th>\n",
       "      <th>Name</th>\n",
       "      <th>Brand</th>\n",
       "      <th>Price</th>\n",
       "      <th>DiscountedPrice</th>\n",
       "      <th>Category</th>\n",
       "      <th>SubCategory</th>\n",
       "      <th>Quantity</th>\n",
       "      <th>Description</th>\n",
       "      <th>BreadCrumbs</th>\n",
       "      <th>DiscountPercent</th>\n",
       "    </tr>\n",
       "  </thead>\n",
       "  <tbody>\n",
       "    <tr>\n",
       "      <th>2230</th>\n",
       "      <td>Kopiko Cappuccino Coffee Candies</td>\n",
       "      <td>Kopiko</td>\n",
       "      <td>0.0</td>\n",
       "      <td>0.0</td>\n",
       "      <td>Packaged Food</td>\n",
       "      <td>Sweets</td>\n",
       "      <td>140 gm</td>\n",
       "      <td>OverviewKopiko candy is made from real coffee ...</td>\n",
       "      <td>Packaged Food &gt; Sweets</td>\n",
       "      <td>NaN</td>\n",
       "    </tr>\n",
       "  </tbody>\n",
       "</table>\n",
       "</div>"
      ],
      "text/plain": [
       "                                  Name   Brand  Price  DiscountedPrice  \\\n",
       "2230  Kopiko Cappuccino Coffee Candies  Kopiko    0.0              0.0   \n",
       "\n",
       "           Category SubCategory Quantity  \\\n",
       "2230  Packaged Food      Sweets   140 gm   \n",
       "\n",
       "                                            Description  \\\n",
       "2230  OverviewKopiko candy is made from real coffee ...   \n",
       "\n",
       "                 BreadCrumbs  DiscountPercent  \n",
       "2230  Packaged Food > Sweets              NaN  "
      ]
     },
     "execution_count": 38,
     "metadata": {},
     "output_type": "execute_result"
    }
   ],
   "source": [
    "df[df['DiscountPercent'].isnull()==True]"
   ]
  },
  {
   "cell_type": "code",
   "execution_count": 39,
   "id": "a9190754",
   "metadata": {},
   "outputs": [],
   "source": [
    "df['DiscountPercent'] = df['DiscountPercent'].fillna(0)"
   ]
  },
  {
   "cell_type": "code",
   "execution_count": 40,
   "id": "fe6ffd04",
   "metadata": {},
   "outputs": [],
   "source": [
    "df['DiscountPercent']=df['DiscountPercent'].apply(lambda x:int(x))"
   ]
  },
  {
   "cell_type": "code",
   "execution_count": 41,
   "id": "930591a5",
   "metadata": {},
   "outputs": [
    {
     "data": {
      "text/html": [
       "<div>\n",
       "<style scoped>\n",
       "    .dataframe tbody tr th:only-of-type {\n",
       "        vertical-align: middle;\n",
       "    }\n",
       "\n",
       "    .dataframe tbody tr th {\n",
       "        vertical-align: top;\n",
       "    }\n",
       "\n",
       "    .dataframe thead th {\n",
       "        text-align: right;\n",
       "    }\n",
       "</style>\n",
       "<table border=\"1\" class=\"dataframe\">\n",
       "  <thead>\n",
       "    <tr style=\"text-align: right;\">\n",
       "      <th></th>\n",
       "      <th>Name</th>\n",
       "      <th>Brand</th>\n",
       "      <th>Price</th>\n",
       "      <th>DiscountedPrice</th>\n",
       "      <th>Category</th>\n",
       "      <th>SubCategory</th>\n",
       "      <th>Quantity</th>\n",
       "      <th>Description</th>\n",
       "      <th>BreadCrumbs</th>\n",
       "      <th>DiscountPercent</th>\n",
       "    </tr>\n",
       "  </thead>\n",
       "  <tbody>\n",
       "    <tr>\n",
       "      <th>0</th>\n",
       "      <td>Premia Badam (Almonds)</td>\n",
       "      <td>Premia</td>\n",
       "      <td>451.0</td>\n",
       "      <td>329.0</td>\n",
       "      <td>Grocery</td>\n",
       "      <td>Grocery/Dry Fruits</td>\n",
       "      <td>500 gm</td>\n",
       "      <td>India</td>\n",
       "      <td>Grocery &gt; Grocery/Dry Fruits</td>\n",
       "      <td>27</td>\n",
       "    </tr>\n",
       "    <tr>\n",
       "      <th>1</th>\n",
       "      <td>Premia Badam (Almonds)</td>\n",
       "      <td>Premia</td>\n",
       "      <td>109.0</td>\n",
       "      <td>85.0</td>\n",
       "      <td>Grocery</td>\n",
       "      <td>Grocery/Dry Fruits</td>\n",
       "      <td>100 gm</td>\n",
       "      <td>India</td>\n",
       "      <td>Grocery &gt; Grocery/Dry Fruits</td>\n",
       "      <td>22</td>\n",
       "    </tr>\n",
       "    <tr>\n",
       "      <th>2</th>\n",
       "      <td>Premia Badam (Almonds)</td>\n",
       "      <td>Premia</td>\n",
       "      <td>202.0</td>\n",
       "      <td>175.0</td>\n",
       "      <td>Grocery</td>\n",
       "      <td>Grocery/Dry Fruits</td>\n",
       "      <td>200 gm</td>\n",
       "      <td>India</td>\n",
       "      <td>Grocery &gt; Grocery/Dry Fruits</td>\n",
       "      <td>13</td>\n",
       "    </tr>\n",
       "    <tr>\n",
       "      <th>3</th>\n",
       "      <td>Nutraj California Almonds (Badam)</td>\n",
       "      <td>Nutraj</td>\n",
       "      <td>599.0</td>\n",
       "      <td>349.0</td>\n",
       "      <td>Grocery</td>\n",
       "      <td>Dry Fruits</td>\n",
       "      <td>500 gm</td>\n",
       "      <td>USA</td>\n",
       "      <td>Grocery &gt; Dry Fruits</td>\n",
       "      <td>41</td>\n",
       "    </tr>\n",
       "    <tr>\n",
       "      <th>4</th>\n",
       "      <td>Nutraj California Almonds (Badam)</td>\n",
       "      <td>Nutraj</td>\n",
       "      <td>1549.0</td>\n",
       "      <td>659.0</td>\n",
       "      <td>Grocery</td>\n",
       "      <td>Dry Fruits</td>\n",
       "      <td>1 kg</td>\n",
       "      <td>USA</td>\n",
       "      <td>Grocery &gt; Dry Fruits</td>\n",
       "      <td>57</td>\n",
       "    </tr>\n",
       "  </tbody>\n",
       "</table>\n",
       "</div>"
      ],
      "text/plain": [
       "                                Name   Brand   Price  DiscountedPrice  \\\n",
       "0             Premia Badam (Almonds)  Premia   451.0            329.0   \n",
       "1             Premia Badam (Almonds)  Premia   109.0             85.0   \n",
       "2             Premia Badam (Almonds)  Premia   202.0            175.0   \n",
       "3  Nutraj California Almonds (Badam)  Nutraj   599.0            349.0   \n",
       "4  Nutraj California Almonds (Badam)  Nutraj  1549.0            659.0   \n",
       "\n",
       "  Category         SubCategory Quantity Description  \\\n",
       "0  Grocery  Grocery/Dry Fruits   500 gm       India   \n",
       "1  Grocery  Grocery/Dry Fruits   100 gm       India   \n",
       "2  Grocery  Grocery/Dry Fruits   200 gm       India   \n",
       "3  Grocery          Dry Fruits   500 gm         USA   \n",
       "4  Grocery          Dry Fruits     1 kg         USA   \n",
       "\n",
       "                    BreadCrumbs  DiscountPercent  \n",
       "0  Grocery > Grocery/Dry Fruits               27  \n",
       "1  Grocery > Grocery/Dry Fruits               22  \n",
       "2  Grocery > Grocery/Dry Fruits               13  \n",
       "3          Grocery > Dry Fruits               41  \n",
       "4          Grocery > Dry Fruits               57  "
      ]
     },
     "execution_count": 41,
     "metadata": {},
     "output_type": "execute_result"
    }
   ],
   "source": [
    "df.head()"
   ]
  },
  {
   "cell_type": "code",
   "execution_count": null,
   "id": "9812ee66",
   "metadata": {},
   "outputs": [],
   "source": []
  }
 ],
 "metadata": {
  "kernelspec": {
   "display_name": "Python 3 (ipykernel)",
   "language": "python",
   "name": "python3"
  },
  "language_info": {
   "codemirror_mode": {
    "name": "ipython",
    "version": 3
   },
   "file_extension": ".py",
   "mimetype": "text/x-python",
   "name": "python",
   "nbconvert_exporter": "python",
   "pygments_lexer": "ipython3",
   "version": "3.9.5"
  }
 },
 "nbformat": 4,
 "nbformat_minor": 5
}
